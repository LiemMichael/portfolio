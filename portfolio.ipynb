{
 "cells": [
  {
   "cell_type": "code",
   "execution_count": null,
   "id": "bb0f5e86-b680-4996-9d84-801e91a7f22d",
   "metadata": {},
   "outputs": [
    {
     "data": {
      "application/vnd.jupyter.widget-view+json": {
       "model_id": "7713a6f4037f49af882b742498e38b97",
       "version_major": 2,
       "version_minor": 0
      },
      "text/plain": [
       "HBox(children=(VBox(children=(Button(description='Solar Fountain', layout=Layout(height='60px', width='100%'),…"
      ]
     },
     "metadata": {},
     "output_type": "display_data"
    }
   ],
   "source": [
    "\n",
    "#!/usr/bin/env python3\n",
    "\n",
    "from ipywidgets import VBox, HBox, Button, Output, Layout\n",
    "from IPython.display import display, HTML\n",
    "\n",
    "# --- Define your projects ---\n",
    "projects = {\n",
    "    \"Project A\": \"the title of the projec comes here\",\n",
    "    \"Project B\": \"the title of the projec comes here\",\n",
    "    \"Project C\": \"the title of the projec comes here\",\n",
    "    \"Project D\": \"the title of the projec comes here\"\n",
    "}\n",
    "\n",
    "# --- Create buttons (left side) ---\n",
    "buttons = []\n",
    "for name in projects.keys():\n",
    "    b = Button(\n",
    "        description=name,\n",
    "        layout=Layout(width=\"100%\", height=\"60px\"),\n",
    "        button_style=''\n",
    "    )\n",
    "    buttons.append(b)\n",
    "\n",
    "# --- Create output area (right side) ---\n",
    "details = Output()\n",
    "\n",
    "# --- Define what happens when clicking a button ---\n",
    "def on_click(b):\n",
    "    details.clear_output()\n",
    "    with details:\n",
    "        display(HTML(f\"\"\"\n",
    "        <h3>{b.description}</h3>\n",
    "        <p>{projects[b.description]}</p>\n",
    "        <hr>\n",
    "        <p><em>More details coming soon...</em></p>\n",
    "        \"\"\"))\n",
    "\n",
    "for b in buttons:\n",
    "    b.on_click(on_click)\n",
    "\n",
    "# --- Layout setup ---\n",
    "left_column = VBox(buttons, layout=Layout(width=\"30%\", border=\"1px solid gray\", padding=\"10px\"))\n",
    "right_column = VBox([details], layout=Layout(width=\"70%\", border=\"1px solid gray\", padding=\"10px\"))\n",
    "\n",
    "ui = HBox([left_column, right_column], layout=Layout(width=\"100%\", height=\"400px\"))\n",
    "display(ui)"
   ]
  },
  {
   "cell_type": "code",
   "execution_count": null,
   "id": "8f48c483-fe9d-423b-b8b1-0da5420db9c9",
   "metadata": {},
   "outputs": [],
   "source": []
  }
 ],
 "metadata": {
  "kernelspec": {
   "display_name": "Python 3 (ipykernel)",
   "language": "python",
   "name": "python3"
  },
  "language_info": {
   "codemirror_mode": {
    "name": "ipython",
    "version": 3
   },
   "file_extension": ".py",
   "mimetype": "text/x-python",
   "name": "python",
   "nbconvert_exporter": "python",
   "pygments_lexer": "ipython3",
   "version": "3.9.6"
  }
 },
 "nbformat": 4,
 "nbformat_minor": 5
}
