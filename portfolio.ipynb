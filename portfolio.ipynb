{
 "cells": [
  {
   "cell_type": "code",
   "execution_count": null,
   "id": "bb0f5e86-b680-4996-9d84-801e91a7f22d",
   "metadata": {},
   "outputs": [
    {
     "data": {
      "application/vnd.jupyter.widget-view+json": {
       "model_id": "2165a16a1e664195b4edc26914b92248",
       "version_major": 2,
       "version_minor": 0
      },
      "text/plain": [
       "HBox(children=(VBox(children=(Button(description='Project A', layout=Layout(height='60px', width='100%'), styl…"
      ]
     },
     "metadata": {},
     "output_type": "display_data"
    }
   ],
   "source": [
    "#!/usr/bin/env python3\n",
    "\n",
    "from ipywidgets import VBox, HBox, Button, Output, Layout\n",
    "from IPython.display import display, HTML\n",
    "import base64\n",
    "\n",
    "# --- Define your projects ---\n",
    "projects = {\n",
    "    \"Project 1\": \"Description for project 1.\",\n",
    "    \"Project 2\": \"Description for project 2.\",\n",
    "    \"Project 3\": \"Description for project 3.\",\n",
    "    \"Project 4\": \"Description for project 4.\"\n",
    "}\n",
    "\n",
    "# --- Encode image as base64 so it can be embedded in CSS ---\n",
    "with open(\"coffee.png\", \"rb\") as f:\n",
    "    image_bytes = f.read()\n",
    "image_b64 = base64.b64encode(image_bytes).decode(\"utf-8\")\n",
    "image_uri = f\"data:image/png;base64,{image_b64}\"\n",
    "\n",
    "# --- Create output area (right side) ---\n",
    "details = Output()\n",
    "\n",
    "# --- Create clickable thumbnail buttons ---\n",
    "buttons = []\n",
    "for name in projects.keys():\n",
    "    b = Button(\n",
    "        description=name,\n",
    "        layout=Layout(width=\"160px\", height=\"120px\", margin=\"5px\"),\n",
    "        style=dict(button_color=\"transparent\", font_weight=\"bold\"),\n",
    "        tooltip=name\n",
    "    )\n",
    "    # Add custom CSS background image and overlay title\n",
    "    b.add_class(\"thumbnail-btn\")\n",
    "    buttons.append(b)\n",
    "\n",
    "# --- Inject CSS styling ---\n",
    "display(HTML(f\"\"\"\n",
    "<style>\n",
    ".thumbnail-btn {{\n",
    "    background-image: url('{image_uri}');\n",
    "    background-size: cover;\n",
    "    background-position: center;\n",
    "    border: 2px solid #444;\n",
    "    color: #ffffff;\n",
    "    text-shadow: 1px 1px 3px black;\n",
    "    font-size: 14px;\n",
    "    display: flex;\n",
    "    align-items: flex-end;\n",
    "    justify-content: center;\n",
    "    padding-bottom: 5px;\n",
    "    transition: transform 0.2s, box-shadow 0.2s;\n",
    "}}\n",
    ".thumbnail-btn:hover {{\n",
    "    transform: scale(1.05);\n",
    "    box-shadow: 0 0 10px #888;\n",
    "    cursor: pointer;\n",
    "}}\n",
    "</style>\n",
    "\"\"\"))\n",
    "\n",
    "# --- Define click behavior ---\n",
    "def on_click(b):\n",
    "    details.clear_output()\n",
    "    with details:\n",
    "        display(HTML(f\"\"\"\n",
    "        <h3 style='color:#f0f0f0'>{b.description}</h3>\n",
    "        <p style='color:#ccc'>{projects[b.description]}</p>\n",
    "        <hr>\n",
    "        <p><em>More details coming soon...</em></p>\n",
    "        \"\"\"))\n",
    "\n",
    "for b in buttons:\n",
    "    b.on_click(on_click)\n",
    "\n",
    "# --- Layout setup (2x2 grid for thumbnails) ---\n",
    "grid = VBox([\n",
    "    HBox(buttons[:2], layout=Layout(justify_content=\"center\")),\n",
    "    HBox(buttons[2:], layout=Layout(justify_content=\"center\"))\n",
    "], layout=Layout(width=\"35%\", padding=\"10px\"))\n",
    "\n",
    "right_column = VBox([details], layout=Layout(width=\"65%\", border=\"1px solid gray\", padding=\"10px\"))\n",
    "\n",
    "ui = HBox([grid, right_column], layout=Layout(width=\"100%\", height=\"500px\"))\n",
    "display(ui)\n"
   ]
  }
 ],
 "metadata": {
  "kernelspec": {
   "display_name": "Python 3 (ipykernel)",
   "language": "python",
   "name": "python3"
  },
  "language_info": {
   "codemirror_mode": {
    "name": "ipython",
    "version": 3
   },
   "file_extension": ".py",
   "mimetype": "text/x-python",
   "name": "python",
   "nbconvert_exporter": "python",
   "pygments_lexer": "ipython3",
   "version": "3.9.6"
  }
 },
 "nbformat": 4,
 "nbformat_minor": 5
}
